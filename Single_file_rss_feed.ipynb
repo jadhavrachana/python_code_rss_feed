{
 "cells": [
  {
   "cell_type": "code",
   "execution_count": 24,
   "metadata": {},
   "outputs": [
    {
     "data": {
      "text/plain": [
       "(221, b'2.0.0 closing connection p7sm25909455pfp.131 - gsmtp')"
      ]
     },
     "execution_count": 24,
     "metadata": {},
     "output_type": "execute_result"
    }
   ],
   "source": [
    "from dateutil.parser import parse\n",
    "from datetime import date\n",
    "import feedparser\n",
    "import pandas as pd\n",
    "import smtplib \n",
    "from email.mime.multipart import MIMEMultipart \n",
    "from email.mime.text import MIMEText \n",
    "from email.mime.base import MIMEBase \n",
    "from email import encoders \n",
    "d = feedparser.parse('https://aws.amazon.com/about-aws/whats-new/recent/feed/')\n",
    "d1 = feedparser.parse('https://azurecomcdn.azureedge.net/en-in/updates/feed/')\n",
    "d2 = feedparser.parse('https://cloudblog.withgoogle.com/rss/')\n",
    "i='1'\n",
    "title=[]\n",
    "link=[]\n",
    "published=[]\n",
    "link1=[d,d1,d2]\n",
    "for a in link1:\n",
    "    for data in a.entries:\n",
    "        if (date.today() - parse(data.published).date()).days < 7:\n",
    "            title.append(data.title)\n",
    "            link.append(data.link)\n",
    "            published.append(data.published)\n",
    "    datas={}\n",
    "    datas[\"titles\"]=title\n",
    "    datas[\"links\"]=link\n",
    "    datas[\"published\"]=published\n",
    "    df=pd.DataFrame(datas)\n",
    "    df\n",
    "        #df.to_csv(r'C:\\Users\\r.jadhav\\Desktop\\python-code\\file'+i+'.csv', index=False)\n",
    "    df.to_csv(r'C:\\Users\\r.jadhav\\Desktop\\python-code\\rss_feed.csv', index=False)\n",
    "    i=i+'1'\n",
    "fromaddr = \"rachananjadhav@gmail.com\"\n",
    "toaddr = \"jadhavrachana123@gmail.com\"\n",
    "lpath = r'C:\\Users\\r.jadhav\\Desktop\\python-code'\n",
    "flist = ['rss_feed.csv']\n",
    "# instance of MIMEMultipart \n",
    "msg = MIMEMultipart() \n",
    "\n",
    "# storing the senders email address \n",
    "msg['From'] = fromaddr \n",
    "\n",
    "# storing the receivers email address \n",
    "msg['To'] = toaddr \n",
    "\n",
    "# storing the subject \n",
    "msg['Subject'] = \"Updated RSS Feed\"\n",
    "\n",
    "# string to store the body of the mail \n",
    "body = \"This is updated rss feeds of aws azure and GCP\"\n",
    "\n",
    "# attach the body with the msg instance \n",
    "msg.attach(MIMEText(body, 'plain')) \n",
    "\n",
    "for item in flist:\n",
    "# open the file to be sent \n",
    "# instance of MIMEBase and named as p \n",
    "    p = MIMEBase('application', 'octet-stream') \n",
    "\n",
    "# To change the payload into encoded form \n",
    "    p.set_payload(open(lpath + '\\\\' + item, \"rb\").read())\n",
    "\n",
    "# encode into base64 \n",
    "    encoders.encode_base64(p) \n",
    "\n",
    "    p.add_header('Content-Disposition','attachment; filename=\"%s\"' % item)\n",
    "\n",
    "# attach the instance 'p' to instance 'msg' \n",
    "    msg.attach(p) \n",
    "\n",
    "# creates SMTP session \n",
    "s = smtplib.SMTP('smtp.gmail.com', 587) \n",
    "\n",
    "# start TLS for security \n",
    "s.starttls() \n",
    "\n",
    "# Authentication \n",
    "s.login(fromaddr, \"Namita@19\") \n",
    "\n",
    "# Converts the Multipart msg into a string \n",
    "text = msg.as_string() \n",
    "\n",
    "# sending the mail \n",
    "s.sendmail(fromaddr, toaddr, text) \n",
    "\n",
    "# terminating the session \n",
    "s.quit() \n"
   ]
  },
  {
   "cell_type": "code",
   "execution_count": null,
   "metadata": {},
   "outputs": [],
   "source": []
  }
 ],
 "metadata": {
  "kernelspec": {
   "display_name": "Python 3",
   "language": "python",
   "name": "python3"
  },
  "language_info": {
   "codemirror_mode": {
    "name": "ipython",
    "version": 3
   },
   "file_extension": ".py",
   "mimetype": "text/x-python",
   "name": "python",
   "nbconvert_exporter": "python",
   "pygments_lexer": "ipython3",
   "version": "3.7.3"
  }
 },
 "nbformat": 4,
 "nbformat_minor": 2
}
